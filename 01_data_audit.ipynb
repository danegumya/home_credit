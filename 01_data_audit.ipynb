{
 "cells": [
  {
   "cell_type": "code",
   "execution_count": 8,
   "id": "a3ceb4c2-dcc5-4bab-9766-fc9a51ace265",
   "metadata": {},
   "outputs": [],
   "source": [
    "import os, json, pathlib as pl\n",
    "import numpy as np\n",
    "import pandas as pd\n",
    "\n",
    "RAW = pl.Path(\"data/raw/home_credit\")\n",
    "TRAIN = RAW / \"application_train.csv\"\n",
    "TEST  = RAW / \"application_test.csv\""
   ]
  },
  {
   "cell_type": "code",
   "execution_count": 10,
   "id": "18ecd166-79fd-45fc-9b4e-13c64e1afc21",
   "metadata": {},
   "outputs": [
    {
     "data": {
      "text/html": [
       "<div>\n",
       "<style scoped>\n",
       "    .dataframe tbody tr th:only-of-type {\n",
       "        vertical-align: middle;\n",
       "    }\n",
       "\n",
       "    .dataframe tbody tr th {\n",
       "        vertical-align: top;\n",
       "    }\n",
       "\n",
       "    .dataframe thead th {\n",
       "        text-align: right;\n",
       "    }\n",
       "</style>\n",
       "<table border=\"1\" class=\"dataframe\">\n",
       "  <thead>\n",
       "    <tr style=\"text-align: right;\">\n",
       "      <th></th>\n",
       "      <th>SK_ID_CURR</th>\n",
       "      <th>TARGET</th>\n",
       "      <th>NAME_CONTRACT_TYPE</th>\n",
       "      <th>CODE_GENDER</th>\n",
       "      <th>FLAG_OWN_CAR</th>\n",
       "      <th>FLAG_OWN_REALTY</th>\n",
       "      <th>CNT_CHILDREN</th>\n",
       "      <th>AMT_INCOME_TOTAL</th>\n",
       "      <th>AMT_CREDIT</th>\n",
       "      <th>AMT_ANNUITY</th>\n",
       "      <th>...</th>\n",
       "      <th>FLAG_DOCUMENT_18</th>\n",
       "      <th>FLAG_DOCUMENT_19</th>\n",
       "      <th>FLAG_DOCUMENT_20</th>\n",
       "      <th>FLAG_DOCUMENT_21</th>\n",
       "      <th>AMT_REQ_CREDIT_BUREAU_HOUR</th>\n",
       "      <th>AMT_REQ_CREDIT_BUREAU_DAY</th>\n",
       "      <th>AMT_REQ_CREDIT_BUREAU_WEEK</th>\n",
       "      <th>AMT_REQ_CREDIT_BUREAU_MON</th>\n",
       "      <th>AMT_REQ_CREDIT_BUREAU_QRT</th>\n",
       "      <th>AMT_REQ_CREDIT_BUREAU_YEAR</th>\n",
       "    </tr>\n",
       "  </thead>\n",
       "  <tbody>\n",
       "    <tr>\n",
       "      <th>0</th>\n",
       "      <td>100002</td>\n",
       "      <td>1</td>\n",
       "      <td>Cash loans</td>\n",
       "      <td>M</td>\n",
       "      <td>N</td>\n",
       "      <td>Y</td>\n",
       "      <td>0</td>\n",
       "      <td>202500.0</td>\n",
       "      <td>406597.5</td>\n",
       "      <td>24700.5</td>\n",
       "      <td>...</td>\n",
       "      <td>0</td>\n",
       "      <td>0</td>\n",
       "      <td>0</td>\n",
       "      <td>0</td>\n",
       "      <td>0.0</td>\n",
       "      <td>0.0</td>\n",
       "      <td>0.0</td>\n",
       "      <td>0.0</td>\n",
       "      <td>0.0</td>\n",
       "      <td>1.0</td>\n",
       "    </tr>\n",
       "    <tr>\n",
       "      <th>1</th>\n",
       "      <td>100003</td>\n",
       "      <td>0</td>\n",
       "      <td>Cash loans</td>\n",
       "      <td>F</td>\n",
       "      <td>N</td>\n",
       "      <td>N</td>\n",
       "      <td>0</td>\n",
       "      <td>270000.0</td>\n",
       "      <td>1293502.5</td>\n",
       "      <td>35698.5</td>\n",
       "      <td>...</td>\n",
       "      <td>0</td>\n",
       "      <td>0</td>\n",
       "      <td>0</td>\n",
       "      <td>0</td>\n",
       "      <td>0.0</td>\n",
       "      <td>0.0</td>\n",
       "      <td>0.0</td>\n",
       "      <td>0.0</td>\n",
       "      <td>0.0</td>\n",
       "      <td>0.0</td>\n",
       "    </tr>\n",
       "    <tr>\n",
       "      <th>2</th>\n",
       "      <td>100004</td>\n",
       "      <td>0</td>\n",
       "      <td>Revolving loans</td>\n",
       "      <td>M</td>\n",
       "      <td>Y</td>\n",
       "      <td>Y</td>\n",
       "      <td>0</td>\n",
       "      <td>67500.0</td>\n",
       "      <td>135000.0</td>\n",
       "      <td>6750.0</td>\n",
       "      <td>...</td>\n",
       "      <td>0</td>\n",
       "      <td>0</td>\n",
       "      <td>0</td>\n",
       "      <td>0</td>\n",
       "      <td>0.0</td>\n",
       "      <td>0.0</td>\n",
       "      <td>0.0</td>\n",
       "      <td>0.0</td>\n",
       "      <td>0.0</td>\n",
       "      <td>0.0</td>\n",
       "    </tr>\n",
       "  </tbody>\n",
       "</table>\n",
       "<p>3 rows × 122 columns</p>\n",
       "</div>"
      ],
      "text/plain": [
       "   SK_ID_CURR  TARGET NAME_CONTRACT_TYPE CODE_GENDER FLAG_OWN_CAR  \\\n",
       "0      100002       1         Cash loans           M            N   \n",
       "1      100003       0         Cash loans           F            N   \n",
       "2      100004       0    Revolving loans           M            Y   \n",
       "\n",
       "  FLAG_OWN_REALTY  CNT_CHILDREN  AMT_INCOME_TOTAL  AMT_CREDIT  AMT_ANNUITY  \\\n",
       "0               Y             0          202500.0    406597.5      24700.5   \n",
       "1               N             0          270000.0   1293502.5      35698.5   \n",
       "2               Y             0           67500.0    135000.0       6750.0   \n",
       "\n",
       "   ...  FLAG_DOCUMENT_18 FLAG_DOCUMENT_19 FLAG_DOCUMENT_20 FLAG_DOCUMENT_21  \\\n",
       "0  ...                 0                0                0                0   \n",
       "1  ...                 0                0                0                0   \n",
       "2  ...                 0                0                0                0   \n",
       "\n",
       "  AMT_REQ_CREDIT_BUREAU_HOUR AMT_REQ_CREDIT_BUREAU_DAY  \\\n",
       "0                        0.0                       0.0   \n",
       "1                        0.0                       0.0   \n",
       "2                        0.0                       0.0   \n",
       "\n",
       "   AMT_REQ_CREDIT_BUREAU_WEEK  AMT_REQ_CREDIT_BUREAU_MON  \\\n",
       "0                         0.0                        0.0   \n",
       "1                         0.0                        0.0   \n",
       "2                         0.0                        0.0   \n",
       "\n",
       "   AMT_REQ_CREDIT_BUREAU_QRT  AMT_REQ_CREDIT_BUREAU_YEAR  \n",
       "0                        0.0                         1.0  \n",
       "1                        0.0                         0.0  \n",
       "2                        0.0                         0.0  \n",
       "\n",
       "[3 rows x 122 columns]"
      ]
     },
     "execution_count": 10,
     "metadata": {},
     "output_type": "execute_result"
    }
   ],
   "source": [
    "#Getting the dataframes\n",
    "train = pd.read_csv(TRAIN)\n",
    "test  = pd.read_csv(TEST)"
   ]
  },
  {
   "cell_type": "code",
   "execution_count": 11,
   "id": "ad79ec3a-28f2-4dec-b10e-69dba4474564",
   "metadata": {},
   "outputs": [
    {
     "data": {
      "text/plain": [
       "(TARGET\n",
       " 0    282686\n",
       " 1     24825\n",
       " Name: count, dtype: int64,\n",
       " np.float64(0.08072881945686496))"
      ]
     },
     "execution_count": 11,
     "metadata": {},
     "output_type": "execute_result"
    }
   ],
   "source": [
    "#Class imbalance check\n",
    "pos_rate = train[\"TARGET\"].mean()\n",
    "train[\"TARGET\"].value_counts(dropna=False), pos_rate"
   ]
  },
  {
   "cell_type": "code",
   "execution_count": 13,
   "id": "6aa5435f-ec44-42c1-84c5-b15e878c4bf2",
   "metadata": {},
   "outputs": [
    {
     "data": {
      "text/plain": [
       "(np.int64(0), 0)"
      ]
     },
     "execution_count": 13,
     "metadata": {},
     "output_type": "execute_result"
    }
   ],
   "source": [
    "#Duplicates and overlaps chheck\n",
    "ID_COL = \"SK_ID_CURR\"\n",
    "dups = train.duplicated(subset=[ID_COL]).sum()\n",
    "overlap = np.intersect1d(train[ID_COL].values, test[ID_COL].values).size\n",
    "dups, overlap"
   ]
  },
  {
   "cell_type": "code",
   "execution_count": 15,
   "id": "4f356bee-bf14-4033-aaa4-6a65004a8476",
   "metadata": {},
   "outputs": [
    {
     "data": {
      "text/plain": [
       "(104,\n",
       " 16,\n",
       " ['NAME_CONTRACT_TYPE',\n",
       "  'CODE_GENDER',\n",
       "  'FLAG_OWN_CAR',\n",
       "  'FLAG_OWN_REALTY',\n",
       "  'NAME_TYPE_SUITE',\n",
       "  'NAME_INCOME_TYPE',\n",
       "  'NAME_EDUCATION_TYPE',\n",
       "  'NAME_FAMILY_STATUS',\n",
       "  'NAME_HOUSING_TYPE',\n",
       "  'OCCUPATION_TYPE',\n",
       "  'WEEKDAY_APPR_PROCESS_START',\n",
       "  'ORGANIZATION_TYPE',\n",
       "  'FONDKAPREMONT_MODE',\n",
       "  'HOUSETYPE_MODE',\n",
       "  'WALLSMATERIAL_MODE'])"
      ]
     },
     "execution_count": 15,
     "metadata": {},
     "output_type": "execute_result"
    }
   ],
   "source": [
    "#Amount of num features and cat features\n",
    "target_and_id = {ID_COL, \"TARGET\"}\n",
    "num_cols = train.select_dtypes(include=[np.number]).columns.difference(target_and_id)\n",
    "cat_cols = [c for c in train.columns if c not in set(num_cols).union(target_and_id)]\n",
    "len(num_cols), len(cat_cols), cat_cols[:15]"
   ]
  },
  {
   "cell_type": "code",
   "execution_count": 16,
   "id": "66b9c801-b751-48d6-821d-9e64cb081b72",
   "metadata": {},
   "outputs": [
    {
     "data": {
      "text/plain": [
       "ORGANIZATION_TYPE             58\n",
       "OCCUPATION_TYPE               19\n",
       "NAME_INCOME_TYPE               8\n",
       "NAME_TYPE_SUITE                8\n",
       "WALLSMATERIAL_MODE             8\n",
       "WEEKDAY_APPR_PROCESS_START     7\n",
       "NAME_FAMILY_STATUS             6\n",
       "NAME_HOUSING_TYPE              6\n",
       "NAME_EDUCATION_TYPE            5\n",
       "FONDKAPREMONT_MODE             5\n",
       "HOUSETYPE_MODE                 4\n",
       "CODE_GENDER                    3\n",
       "EMERGENCYSTATE_MODE            3\n",
       "FLAG_OWN_CAR                   2\n",
       "FLAG_OWN_REALTY                2\n",
       "NAME_CONTRACT_TYPE             2\n",
       "dtype: int64"
      ]
     },
     "execution_count": 16,
     "metadata": {},
     "output_type": "execute_result"
    }
   ],
   "source": [
    "#Check for cardinality of cat features\n",
    "card = train[cat_cols].nunique(dropna=False).sort_values(ascending=False)\n",
    "card.head(20)"
   ]
  },
  {
   "cell_type": "code",
   "execution_count": 17,
   "id": "c2408084-ce58-4ac9-a0d1-d3d6b06b7755",
   "metadata": {},
   "outputs": [
    {
     "data": {
      "text/html": [
       "<div>\n",
       "<style scoped>\n",
       "    .dataframe tbody tr th:only-of-type {\n",
       "        vertical-align: middle;\n",
       "    }\n",
       "\n",
       "    .dataframe tbody tr th {\n",
       "        vertical-align: top;\n",
       "    }\n",
       "\n",
       "    .dataframe thead th {\n",
       "        text-align: right;\n",
       "    }\n",
       "</style>\n",
       "<table border=\"1\" class=\"dataframe\">\n",
       "  <thead>\n",
       "    <tr style=\"text-align: right;\">\n",
       "      <th></th>\n",
       "      <th>missing_rate</th>\n",
       "    </tr>\n",
       "  </thead>\n",
       "  <tbody>\n",
       "    <tr>\n",
       "      <th>COMMONAREA_AVG</th>\n",
       "      <td>0.698723</td>\n",
       "    </tr>\n",
       "    <tr>\n",
       "      <th>COMMONAREA_MODE</th>\n",
       "      <td>0.698723</td>\n",
       "    </tr>\n",
       "    <tr>\n",
       "      <th>COMMONAREA_MEDI</th>\n",
       "      <td>0.698723</td>\n",
       "    </tr>\n",
       "    <tr>\n",
       "      <th>NONLIVINGAPARTMENTS_MEDI</th>\n",
       "      <td>0.694330</td>\n",
       "    </tr>\n",
       "    <tr>\n",
       "      <th>NONLIVINGAPARTMENTS_MODE</th>\n",
       "      <td>0.694330</td>\n",
       "    </tr>\n",
       "    <tr>\n",
       "      <th>NONLIVINGAPARTMENTS_AVG</th>\n",
       "      <td>0.694330</td>\n",
       "    </tr>\n",
       "    <tr>\n",
       "      <th>FONDKAPREMONT_MODE</th>\n",
       "      <td>0.683862</td>\n",
       "    </tr>\n",
       "    <tr>\n",
       "      <th>LIVINGAPARTMENTS_AVG</th>\n",
       "      <td>0.683550</td>\n",
       "    </tr>\n",
       "    <tr>\n",
       "      <th>LIVINGAPARTMENTS_MEDI</th>\n",
       "      <td>0.683550</td>\n",
       "    </tr>\n",
       "    <tr>\n",
       "      <th>LIVINGAPARTMENTS_MODE</th>\n",
       "      <td>0.683550</td>\n",
       "    </tr>\n",
       "    <tr>\n",
       "      <th>FLOORSMIN_MODE</th>\n",
       "      <td>0.678486</td>\n",
       "    </tr>\n",
       "    <tr>\n",
       "      <th>FLOORSMIN_AVG</th>\n",
       "      <td>0.678486</td>\n",
       "    </tr>\n",
       "    <tr>\n",
       "      <th>FLOORSMIN_MEDI</th>\n",
       "      <td>0.678486</td>\n",
       "    </tr>\n",
       "    <tr>\n",
       "      <th>YEARS_BUILD_AVG</th>\n",
       "      <td>0.664978</td>\n",
       "    </tr>\n",
       "    <tr>\n",
       "      <th>YEARS_BUILD_MODE</th>\n",
       "      <td>0.664978</td>\n",
       "    </tr>\n",
       "    <tr>\n",
       "      <th>YEARS_BUILD_MEDI</th>\n",
       "      <td>0.664978</td>\n",
       "    </tr>\n",
       "    <tr>\n",
       "      <th>OWN_CAR_AGE</th>\n",
       "      <td>0.659908</td>\n",
       "    </tr>\n",
       "    <tr>\n",
       "      <th>LANDAREA_MEDI</th>\n",
       "      <td>0.593767</td>\n",
       "    </tr>\n",
       "    <tr>\n",
       "      <th>LANDAREA_AVG</th>\n",
       "      <td>0.593767</td>\n",
       "    </tr>\n",
       "    <tr>\n",
       "      <th>LANDAREA_MODE</th>\n",
       "      <td>0.593767</td>\n",
       "    </tr>\n",
       "  </tbody>\n",
       "</table>\n",
       "</div>"
      ],
      "text/plain": [
       "                          missing_rate\n",
       "COMMONAREA_AVG                0.698723\n",
       "COMMONAREA_MODE               0.698723\n",
       "COMMONAREA_MEDI               0.698723\n",
       "NONLIVINGAPARTMENTS_MEDI      0.694330\n",
       "NONLIVINGAPARTMENTS_MODE      0.694330\n",
       "NONLIVINGAPARTMENTS_AVG       0.694330\n",
       "FONDKAPREMONT_MODE            0.683862\n",
       "LIVINGAPARTMENTS_AVG          0.683550\n",
       "LIVINGAPARTMENTS_MEDI         0.683550\n",
       "LIVINGAPARTMENTS_MODE         0.683550\n",
       "FLOORSMIN_MODE                0.678486\n",
       "FLOORSMIN_AVG                 0.678486\n",
       "FLOORSMIN_MEDI                0.678486\n",
       "YEARS_BUILD_AVG               0.664978\n",
       "YEARS_BUILD_MODE              0.664978\n",
       "YEARS_BUILD_MEDI              0.664978\n",
       "OWN_CAR_AGE                   0.659908\n",
       "LANDAREA_MEDI                 0.593767\n",
       "LANDAREA_AVG                  0.593767\n",
       "LANDAREA_MODE                 0.593767"
      ]
     },
     "execution_count": 17,
     "metadata": {},
     "output_type": "execute_result"
    }
   ],
   "source": [
    "#Missing rates\n",
    "missing_pct = train.isna().mean().sort_values(ascending=False)\n",
    "missing_summary = missing_pct.to_frame(\"missing_rate\").query(\"missing_rate > 0\")\n",
    "missing_summary.head(20)"
   ]
  },
  {
   "cell_type": "code",
   "execution_count": 18,
   "id": "d85be454-6536-481e-9ee5-e2af03efa4b1",
   "metadata": {},
   "outputs": [
    {
     "data": {
      "text/plain": [
       "(0, [])"
      ]
     },
     "execution_count": 18,
     "metadata": {},
     "output_type": "execute_result"
    }
   ],
   "source": [
    "#Constant features check\n",
    "nunique = train.nunique()\n",
    "constant_cols = nunique[nunique <= 1].index.tolist()\n",
    "len(constant_cols), constant_cols[:10]"
   ]
  },
  {
   "cell_type": "code",
   "execution_count": 19,
   "id": "6c7b5f0a-b692-469d-975a-39be5605776c",
   "metadata": {},
   "outputs": [
    {
     "data": {
      "text/plain": [
       "(5, [61503, 61502, 61502, 61502, 61502])"
      ]
     },
     "execution_count": 19,
     "metadata": {},
     "output_type": "execute_result"
    }
   ],
   "source": [
    "#Kfolds\n",
    "from sklearn.model_selection import StratifiedKFold\n",
    "\n",
    "X = train.drop(columns=[ID_COL, \"TARGET\"])\n",
    "y = train[\"TARGET\"].values\n",
    "\n",
    "cv = StratifiedKFold(n_splits=5, shuffle=True, random_state=2501)\n",
    "\n",
    "folds = []\n",
    "for fold, (_, val_idx) in enumerate(cv.split(X, y)):\n",
    "    folds.append({\"fold\": int(fold), \"val_index\": val_idx.tolist()})\n",
    "\n",
    "os.makedirs(\"experiments/cv\", exist_ok=True)          # experiments/ is gitignored\n",
    "with open(\"experiments/cv/home_credit_folds.json\", \"w\") as f:\n",
    "    json.dump(folds, f)\n",
    "\n",
    "len(folds), [len(f[\"val_index\"]) for f in folds]"
   ]
  },
  {
   "cell_type": "markdown",
   "id": "a8b70c8f-2f60-41d7-b9a8-da2f17a51a04",
   "metadata": {},
   "source": [
    "Metrics: ROC-AUC and PR-AUC (cuz of the imbalance)"
   ]
  }
 ],
 "metadata": {
  "kernelspec": {
   "display_name": "Python 3 (ipykernel)",
   "language": "python",
   "name": "python3"
  },
  "language_info": {
   "codemirror_mode": {
    "name": "ipython",
    "version": 3
   },
   "file_extension": ".py",
   "mimetype": "text/x-python",
   "name": "python",
   "nbconvert_exporter": "python",
   "pygments_lexer": "ipython3",
   "version": "3.12.5"
  }
 },
 "nbformat": 4,
 "nbformat_minor": 5
}
